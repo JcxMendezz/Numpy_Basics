{
 "cells": [
  {
   "cell_type": "code",
   "execution_count": 11,
   "metadata": {},
   "outputs": [],
   "source": [
    "import pandas as pd \n",
    "import numpy as np"
   ]
  },
  {
   "cell_type": "code",
   "execution_count": 8,
   "metadata": {},
   "outputs": [
    {
     "name": "stdout",
     "output_type": "stream",
     "text": [
      "                        name mfr type  calories  protein  fat  sodium  fiber  \\\n",
      "0                  100% Bran   N    C        70        4    1     130   10.0   \n",
      "1          100% Natural Bran   Q    C       120        3    5      15    2.0   \n",
      "2                   All-Bran   K    C        70        4    1     260    9.0   \n",
      "3  All-Bran with Extra Fiber   K    C        50        4    0     140   14.0   \n",
      "4             Almond Delight   R    C       110        2    2     200    1.0   \n",
      "\n",
      "   carbo  sugars  potass  vitamins  shelf  weight  cups     rating  \n",
      "0    5.0       6     280        25      3     1.0  0.33  68.402973  \n",
      "1    8.0       8     135         0      3     1.0  1.00  33.983679  \n",
      "2    7.0       5     320        25      3     1.0  0.33  59.425505  \n",
      "3    8.0       0     330        25      3     1.0  0.50  93.704912  \n",
      "4   14.0       8      -1        25      3     1.0  0.75  34.384843  \n"
     ]
    }
   ],
   "source": [
    "def cargar_dataset_csv(nombre_archivo):\n",
    "    return pd.read_csv(nombre_archivo)\n",
    "\n",
    "# Cargar el dataset cereal.csv\n",
    "df_cereal = cargar_dataset_csv('cereal.csv')\n",
    "print(df_cereal.head())"
   ]
  },
  {
   "cell_type": "code",
   "execution_count": 19,
   "metadata": {},
   "outputs": [
    {
     "name": "stdout",
     "output_type": "stream",
     "text": [
      "                        name mfr type  calories  protein  fat  sodium  fiber  \\\n",
      "0                  100% Bran   N    C        70        4    1     130   10.0   \n",
      "1          100% Natural Bran   Q    C       120        3    5      15    2.0   \n",
      "2                   All-Bran   K    C        70        4    1     260    9.0   \n",
      "3  All-Bran with Extra Fiber   K    C        50        4    0     140   14.0   \n",
      "4             Almond Delight   R    C       110        2    2     200    1.0   \n",
      "\n",
      "   carbo  sugars  potass  vitamins  shelf  weight  cups     rating  \n",
      "0    5.0       6     280        25      3     1.0  0.33  68.402973  \n",
      "1    8.0       8     135         0      3     1.0  1.00  33.983679  \n",
      "2    7.0       5     320        25      3     1.0  0.33  59.425505  \n",
      "3    8.0       0     330        25      3     1.0  0.50  93.704912  \n",
      "4   14.0       8      -1        25      3     1.0  0.75  34.384843  \n"
     ]
    }
   ],
   "source": [
    "# Download the dataset manually from the URL and save it as 'cereal.csv'\n",
    "index = list(map(lambda x: f'i_{x}', np.arange(0, 15000, dtype= 'object' )))\n",
    "%%timeit -n 1000\n",
    "ser['i_150']\n",
    "%%timeit -n 1000\n",
    "ser.loc['i_150']\n",
    "%%timeit -n 1000\n",
    "ser.at\n",
    "%%['i_150']\n",
    "%%timeit -n 10000\n",
    "ser.iloc[2000]\n",
    "%%timeit -n 10000\n",
    "ser.iat[2000]\n",
    "\n",
    "\n",
    "\n",
    "s = pd.Series(np.random.rand(100))\n",
    "S < 0.5\n",
    "S[S < 0.1]\n",
    "S[(S < 0.3) & (S > 0.4)]\n",
    "\n",
    "\n",
    "\n",
    "DF[df[calories] > 100]\n",
    "df[(df['calories'] < 80) & (df['fat'] < 1)]\n",
    "s[s.isin([1,5])]\n",
    "df.isin([1,'kelloggs',100,70,4])\n",
    "df.head() \n",
    "df.tail()\n",
    "df[df.isin({1,'kelloggs',100,70,4})]\n",
    "df_isin = df.isin({'calories':[100,70], 'fat':[1,4]})\n",
    "df_isin.any(axis=1)\n",
    "df[df.isin]\n",
    "df.loc[df_isin.aany(axis=1), df_isin.any(axis=0)]\n",
    "\n",
    "\n",
    "ser = pd.Series(np.random.rand(len(index)), index=index)\n",
    "df_cereal = pd.read_csv('cereal.csv', delimiter=',')\n",
    "print(df_cereal.head())\n",
    "\n",
    "s = pd.Series(np.arange(10))\n",
    "s = where(s % 2 == 0, 'even', 'odd')\n",
    "df.where (df['sodium'] > 150)\n",
    "df.where (df['sodium'] < 150,100)\n",
    "df.replace('red', 'rojo')\n",
    "df,replace (['red', 'blue'], ['rojo', 'azul'])\n",
    "df= pd.Dataframe({'Area':[ ], 'Population':[ ]}, index=['Russia', 'Unite Kingndom',, 'France', 'Spain'])\n",
    "\n",
    "df.head()\n"
   ]
  },
  {
   "cell_type": "code",
   "execution_count": null,
   "metadata": {
    "vscode": {
     "languageId": "markdown"
    }
   },
   "outputs": [],
   "source": [
    "index = list() "
   ]
  },
  {
   "cell_type": "code",
   "execution_count": null,
   "metadata": {},
   "outputs": [],
   "source": []
  },
  {
   "cell_type": "code",
   "execution_count": null,
   "metadata": {},
   "outputs": [],
   "source": []
  },
  {
   "cell_type": "code",
   "execution_count": null,
   "metadata": {},
   "outputs": [],
   "source": []
  },
  {
   "cell_type": "code",
   "execution_count": null,
   "metadata": {},
   "outputs": [],
   "source": []
  }
 ],
 "metadata": {
  "kernelspec": {
   "display_name": "Python 3",
   "language": "python",
   "name": "python3"
  },
  "language_info": {
   "codemirror_mode": {
    "name": "ipython",
    "version": 3
   },
   "file_extension": ".py",
   "mimetype": "text/x-python",
   "name": "python",
   "nbconvert_exporter": "python",
   "pygments_lexer": "ipython3",
   "version": "3.11.9"
  }
 },
 "nbformat": 4,
 "nbformat_minor": 2
}
